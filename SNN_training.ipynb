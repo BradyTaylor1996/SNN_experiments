{
 "cells": [
  {
   "cell_type": "code",
   "execution_count": 2,
   "metadata": {},
   "outputs": [],
   "source": [
    "import torch\n",
    "import torch.nn.functional as F\n",
    "import torch.nn as nn\n",
    "import torchvision\n",
    "import torchvision.transforms as transforms\n",
    "import torch.optim as optim"
   ]
  },
  {
   "cell_type": "code",
   "execution_count": 3,
   "metadata": {},
   "outputs": [],
   "source": [
    "class SNN(nn.Module):\n",
    "    def __init__(self):\n",
    "        super(SNN, self).__init__()\n",
    "        self.first_layer = nn.Linear(28*28,32)\n",
    "        self.second_layer = nn.Linear(32,10)\n",
    "        \n",
    "    def forward(self,x):\n",
    "        y1 = F.relu(self.first_layer(x))\n",
    "        y = self.second_layer(y1)\n",
    "        return y"
   ]
  },
  {
   "cell_type": "code",
   "execution_count": 4,
   "metadata": {},
   "outputs": [],
   "source": [
    "transform_train = transforms.Compose([transforms.ToTensor()])\n",
    "transform_test = transforms.Compose([transforms.ToTensor()])"
   ]
  },
  {
   "cell_type": "code",
   "execution_count": 5,
   "metadata": {},
   "outputs": [],
   "source": [
    "mnist_train = torchvision.datasets.MNIST(root='./MNIST',train=True,download=True,transform=transform_train)\n",
    "train_loader = torch.utils.data.DataLoader(mnist_train,batch_size=100,shuffle=True)\n",
    "\n",
    "mnist_test = torchvision.datasets.MNIST(root='./MNIST',train=False,download=True,transform=transform_test)\n",
    "test_loader = torch.utils.data.DataLoader(mnist_test,batch_size=100,shuffle=False)"
   ]
  },
  {
   "cell_type": "code",
   "execution_count": 6,
   "metadata": {},
   "outputs": [],
   "source": [
    "network = SNN()\n",
    "criterion = nn.CrossEntropyLoss()\n",
    "optimizer = optim.SGD(network.parameters(),lr=1e-3)"
   ]
  },
  {
   "cell_type": "code",
   "execution_count": 7,
   "metadata": {},
   "outputs": [
    {
     "name": "stdout",
     "output_type": "stream",
     "text": [
      "Epoch 0: 19.745% accurate\n",
      "Epoch 1: 34.285% accurate\n",
      "Epoch 2: 43.52166666666667% accurate\n",
      "Epoch 3: 53.693333333333335% accurate\n",
      "Epoch 4: 62.455% accurate\n",
      "Epoch 5: 68.405% accurate\n",
      "Epoch 6: 72.65666666666667% accurate\n",
      "Epoch 7: 75.69333333333333% accurate\n",
      "Epoch 8: 77.97333333333333% accurate\n",
      "Epoch 9: 79.61333333333333% accurate\n"
     ]
    }
   ],
   "source": [
    "for i in range(100):\n",
    "    network.train()\n",
    "    correct_rate = 0\n",
    "    for (inputs, targets) in train_loader:\n",
    "        inputs = inputs.view(inputs.shape[0], -1)\n",
    "        optimizer.zero_grad()\n",
    "        outputs = network(inputs)\n",
    "        loss = criterion(outputs, targets)\n",
    "        loss.backward()\n",
    "        optimizer.step()\n",
    "        value, pred = outputs.max(1)\n",
    "        correct_rate += pred.eq(targets).sum().item()\n",
    "    print(\"Epoch \"+ str(i) + \": \" + str(correct_rate/600) + \"% accurate\")"
   ]
  },
  {
   "cell_type": "code",
   "execution_count": 9,
   "metadata": {},
   "outputs": [
    {
     "name": "stdout",
     "output_type": "stream",
     "text": [
      "80.92\n"
     ]
    }
   ],
   "source": [
    "network.eval()\n",
    "correct_rate = 0\n",
    "with torch.no_grad():\n",
    "    for (inputs, targets) in test_loader:\n",
    "        inputs = inputs.view(inputs.shape[0], -1)\n",
    "        optimizer.zero_grad()\n",
    "        outputs = network(inputs)\n",
    "        values, pred = outputs.max(1)\n",
    "        correct_rate += pred.eq(targets).sum().item()\n",
    "print(correct_rate/100)"
   ]
  }
 ],
 "metadata": {
  "kernelspec": {
   "display_name": "Python 3",
   "language": "python",
   "name": "python3"
  },
  "language_info": {
   "codemirror_mode": {
    "name": "ipython",
    "version": 3
   },
   "file_extension": ".py",
   "mimetype": "text/x-python",
   "name": "python",
   "nbconvert_exporter": "python",
   "pygments_lexer": "ipython3",
   "version": "3.7.9"
  }
 },
 "nbformat": 4,
 "nbformat_minor": 4
}
